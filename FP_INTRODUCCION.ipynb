{
    "cells": [
        {
            "metadata": {
                "collapsed": true
            },
            "cell_type": "markdown",
            "source": "# Section 1. Introduccion"
        },
        {
            "metadata": {},
            "cell_type": "markdown",
            "source": "At this time in Lima, many people are reinventing their businesses due to the new quarantine and the best way is by offering products through social networks with delivery. \nMy cousin wants to invest her savings in offering desserts for clients close to her home or where she can ride a bicycle to deliver the product.\nTherefore, I will help you identify possible areas where you can offer your products.\n\nIf it is optimal, it could be used to recommend any type of business that wants to offer similar products"
        },
        {
            "metadata": {},
            "cell_type": "markdown",
            "source": "## Objectives"
        },
        {
            "metadata": {},
            "cell_type": "markdown",
            "source": "- not generate high costs or waste a lot of time in delivery\n- no llegar a lugares con mucha competencia, para no tener que reducir precios\n- describe businesses with similar services"
        },
        {
            "metadata": {},
            "cell_type": "markdown",
            "source": "## Priorities"
        },
        {
            "metadata": {},
            "cell_type": "markdown",
            "source": "- Describe the community, to give an idea of \u200b\u200bthe type of businesses in your location\n- Describe the competition, to quantify the businesses that target your same customers\n"
        }
    ],
    "metadata": {
        "kernelspec": {
            "name": "python3",
            "display_name": "Python 3.7",
            "language": "python"
        },
        "language_info": {
            "name": "python",
            "version": "3.7.9",
            "mimetype": "text/x-python",
            "codemirror_mode": {
                "name": "ipython",
                "version": 3
            },
            "pygments_lexer": "ipython3",
            "nbconvert_exporter": "python",
            "file_extension": ".py"
        }
    },
    "nbformat": 4,
    "nbformat_minor": 1
}