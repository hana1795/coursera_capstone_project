{
    "cells": [
        {
            "metadata": {},
            "cell_type": "markdown",
            "source": "#              Predicting the best delivery area for Small Entrepreneurs"
        },
        {
            "metadata": {
                "collapsed": true
            },
            "cell_type": "markdown",
            "source": "## Section 1. Introduccion"
        },
        {
            "metadata": {},
            "cell_type": "markdown",
            "source": "At this time in Lima, many people are reinventing their businesses due to the new quarantine and the best way is by offering products through social networks with delivery. My cousin wants to invest her savings in offering desserts for clients close to her home or where she can ride a bicycle to deliver the product. Therefore, I will help you identify possible areas where you can offer your products.\n\nIf it is optimal, it could be used to recommend any type of business that wants to offer similar products"
        },
        {
            "metadata": {},
            "cell_type": "markdown",
            "source": "## 1.1 Objectives"
        },
        {
            "metadata": {},
            "cell_type": "markdown",
            "source": "- not generate high costs or waste a lot of time in delivery\n- describe businesses with similar services"
        },
        {
            "metadata": {},
            "cell_type": "markdown",
            "source": "## 1.2 Priorities"
        },
        {
            "metadata": {},
            "cell_type": "markdown",
            "source": "- Describe the community, to give an idea of the type of businesses in your location\n- Describe the competition, to quantify the businesses that target your same customers\n"
        },
        {
            "metadata": {},
            "cell_type": "markdown",
            "source": "## Section 2: Data"
        },
        {
            "metadata": {},
            "cell_type": "markdown",
            "source": "Based on the objectives and priorities of the case, the data section is defined:"
        },
        {
            "metadata": {},
            "cell_type": "markdown",
            "source": "## 2.1 Analytic aprroach"
        },
        {
            "metadata": {},
            "cell_type": "markdown",
            "source": "For this development we will be based on a descriptive model. Using clustering or segmentation techniques."
        },
        {
            "metadata": {},
            "cell_type": "markdown",
            "source": "## 2.2 Data Sources"
        },
        {
            "metadata": {},
            "cell_type": "markdown",
            "source": "- I use geocoders: get Data of actual location coordinates\n- I use Foursquare API Calls: get Data of location of nearby businesses.\n- I use GITHUB like repository of my notebook."
        },
        {
            "metadata": {},
            "cell_type": "markdown",
            "source": "## Section 3: Methodology"
        },
        {
            "metadata": {},
            "cell_type": "markdown",
            "source": "### Identify the coordinates of 3 areas interested by the client:\nI will use geocode to obtain the origin location."
        },
        {
            "metadata": {},
            "cell_type": "code",
            "source": "#Librerias\nimport pandas as pd\n! pip install folium==0.5.0\nimport folium # plotting library\n!pip install geopy\nfrom geopy.geocoders import Nominatim\nprint ('Doing')",
            "execution_count": 2,
            "outputs": [
                {
                    "output_type": "stream",
                    "text": "Collecting folium==0.5.0\n  Downloading folium-0.5.0.tar.gz (79 kB)\n\u001b[K     |\u2588\u2588\u2588\u2588\u2588\u2588\u2588\u2588\u2588\u2588\u2588\u2588\u2588\u2588\u2588\u2588\u2588\u2588\u2588\u2588\u2588\u2588\u2588\u2588\u2588\u2588\u2588\u2588\u2588\u2588\u2588\u2588| 79 kB 5.3 MB/s eta 0:00:011\n\u001b[?25hCollecting branca\n  Downloading branca-0.4.2-py3-none-any.whl (24 kB)\nRequirement already satisfied: jinja2 in /opt/conda/envs/Python-3.7-main/lib/python3.7/site-packages (from folium==0.5.0) (2.11.2)\nRequirement already satisfied: requests in /opt/conda/envs/Python-3.7-main/lib/python3.7/site-packages (from folium==0.5.0) (2.24.0)\nRequirement already satisfied: six in /opt/conda/envs/Python-3.7-main/lib/python3.7/site-packages (from folium==0.5.0) (1.15.0)\nRequirement already satisfied: MarkupSafe>=0.23 in /opt/conda/envs/Python-3.7-main/lib/python3.7/site-packages (from jinja2->folium==0.5.0) (1.1.1)\nRequirement already satisfied: idna<3,>=2.5 in /opt/conda/envs/Python-3.7-main/lib/python3.7/site-packages (from requests->folium==0.5.0) (2.9)\nRequirement already satisfied: certifi>=2017.4.17 in /opt/conda/envs/Python-3.7-main/lib/python3.7/site-packages (from requests->folium==0.5.0) (2020.12.5)\nRequirement already satisfied: urllib3!=1.25.0,!=1.25.1,<1.26,>=1.21.1 in /opt/conda/envs/Python-3.7-main/lib/python3.7/site-packages (from requests->folium==0.5.0) (1.25.9)\nRequirement already satisfied: chardet<4,>=3.0.2 in /opt/conda/envs/Python-3.7-main/lib/python3.7/site-packages (from requests->folium==0.5.0) (3.0.4)\nBuilding wheels for collected packages: folium\n  Building wheel for folium (setup.py) ... \u001b[?25ldone\n\u001b[?25h  Created wheel for folium: filename=folium-0.5.0-py3-none-any.whl size=76240 sha256=3d606742a036da7b6379c04acf5c971190eabf8b5343c5ec6ed281b5f9ab11fc\n  Stored in directory: /tmp/wsuser/.cache/pip/wheels/b2/2f/2c/109e446b990d663ea5ce9b078b5e7c1a9c45cca91f377080f8\nSuccessfully built folium\nInstalling collected packages: branca, folium\nSuccessfully installed branca-0.4.2 folium-0.5.0\nRequirement already satisfied: geopy in /opt/conda/envs/Python-3.7-main/lib/python3.7/site-packages (2.0.0)\nRequirement already satisfied: geographiclib<2,>=1.49 in /opt/conda/envs/Python-3.7-main/lib/python3.7/site-packages (from geopy) (1.50)\nDoing\n",
                    "name": "stdout"
                }
            ]
        },
        {
            "metadata": {},
            "cell_type": "code",
            "source": "grupo = 'target 1'\naddress = 'Av. canad\u00e1 1110,Lima, Per\u00fa'\ngeolocator = Nominatim(user_agent=\"foursquare_agent\")\nlocation = geolocator.geocode(address)\nlatitude = location.latitude\nlongitude = location.longitude\ngrupo2 = 'target 2'\naddress2 = 'Av. Guardia Civil 421,Lima, Per\u00fa'\ngeolocator = Nominatim(user_agent=\"foursquare_agent\")\nlocation = geolocator.geocode(address2)\nlatitude2 = location.latitude\nlongitude2 = location.longitude\ngrupo3 = 'target 3'\naddress3 = 'Carlos Villar\u00e1n 140,Lima, Per\u00fa'\ngeolocator = Nominatim(user_agent=\"foursquare_agent\")\nlocation = geolocator.geocode(address3)\nlatitude3 = location.latitude\nlongitude3 = location.longitude",
            "execution_count": 3,
            "outputs": []
        },
        {
            "metadata": {},
            "cell_type": "code",
            "source": "import pandas as pd\ntarget = {'Adrees': [grupo,grupo2,grupo3],'Latitud': [latitude,latitude2,latitude3],'Longitude': [longitude,longitude2,longitude3]}\ntarget_frame = pd.DataFrame(target)\ntarget_frame",
            "execution_count": 4,
            "outputs": [
                {
                    "output_type": "execute_result",
                    "execution_count": 4,
                    "data": {
                        "text/plain": "     Adrees    Latitud  Longitude\n0  target 1 -12.082902 -77.015544\n1  target 2 -12.092549 -77.008657\n2  target 3 -12.089172 -77.023246",
                        "text/html": "<div>\n<style scoped>\n    .dataframe tbody tr th:only-of-type {\n        vertical-align: middle;\n    }\n\n    .dataframe tbody tr th {\n        vertical-align: top;\n    }\n\n    .dataframe thead th {\n        text-align: right;\n    }\n</style>\n<table border=\"1\" class=\"dataframe\">\n  <thead>\n    <tr style=\"text-align: right;\">\n      <th></th>\n      <th>Adrees</th>\n      <th>Latitud</th>\n      <th>Longitude</th>\n    </tr>\n  </thead>\n  <tbody>\n    <tr>\n      <th>0</th>\n      <td>target 1</td>\n      <td>-12.082902</td>\n      <td>-77.015544</td>\n    </tr>\n    <tr>\n      <th>1</th>\n      <td>target 2</td>\n      <td>-12.092549</td>\n      <td>-77.008657</td>\n    </tr>\n    <tr>\n      <th>2</th>\n      <td>target 3</td>\n      <td>-12.089172</td>\n      <td>-77.023246</td>\n    </tr>\n  </tbody>\n</table>\n</div>"
                    },
                    "metadata": {}
                }
            ]
        },
        {
            "metadata": {},
            "cell_type": "code",
            "source": "#graficamos ubicacion de los target respecto a la ubicacion real\naddress = 'Av. Nicol\u00e1s Arriola 480, Lima, Per\u00fa'\n\ngeolocator = Nominatim(user_agent=\"foursquare_agent\")\nlocation = geolocator.geocode(address)\nlatitude = location.latitude\nlongitude = location.longitude\n\ntarget_map = folium.Map(location=[latitude, longitude], zoom_start=15)\n# add markers to map\nfor lat, lng, neighborhood in zip(target_frame['Latitud'], target_frame['Longitude'], target_frame['Adrees']):\n    label = folium.Popup(neighborhood, parse_html=True)\n    folium.CircleMarker( [lat, lng],radius=5,popup=label,color='blue',\n        fill=True,fill_color='#3186cc',fill_opacity=0.7,\n        parse_html=False).add_to(target_map)  \n    \nmarcador1 = folium.Marker(location=(latitude,longitude),icon=folium.Icon(color=\"black\"))\nmarcador1.add_to(target_map)\n# display map\ntarget_map",
            "execution_count": 6,
            "outputs": [
                {
                    "output_type": "execute_result",
                    "execution_count": 6,
                    "data": {
                        "text/plain": "<folium.folium.Map at 0x7fc7e867ff10>",
                        "text/html": "<div style=\"width:100%;\"><div style=\"position:relative;width:100%;height:0;padding-bottom:60%;\"><span style=\"color:#565656\">Make this Notebook Trusted to load map: File -> Trust Notebook</span><iframe src=\"about:blank\" style=\"position:absolute;width:100%;height:100%;left:0;top:0;border:none !important;\" data-html=%3C%21DOCTYPE%20html%3E%0A%3Chead%3E%20%20%20%20%0A%20%20%20%20%3Cmeta%20http-equiv%3D%22content-type%22%20content%3D%22text/html%3B%20charset%3DUTF-8%22%20/%3E%0A%20%20%20%20%3Cscript%3EL_PREFER_CANVAS%20%3D%20false%3B%20L_NO_TOUCH%20%3D%20false%3B%20L_DISABLE_3D%20%3D%20false%3B%3C/script%3E%0A%20%20%20%20%3Cscript%20src%3D%22https%3A//cdn.jsdelivr.net/npm/leaflet%401.2.0/dist/leaflet.js%22%3E%3C/script%3E%0A%20%20%20%20%3Cscript%20src%3D%22https%3A//ajax.googleapis.com/ajax/libs/jquery/1.11.1/jquery.min.js%22%3E%3C/script%3E%0A%20%20%20%20%3Cscript%20src%3D%22https%3A//maxcdn.bootstrapcdn.com/bootstrap/3.2.0/js/bootstrap.min.js%22%3E%3C/script%3E%0A%20%20%20%20%3Cscript%20src%3D%22https%3A//cdnjs.cloudflare.com/ajax/libs/Leaflet.awesome-markers/2.0.2/leaflet.awesome-markers.js%22%3E%3C/script%3E%0A%20%20%20%20%3Clink%20rel%3D%22stylesheet%22%20href%3D%22https%3A//cdn.jsdelivr.net/npm/leaflet%401.2.0/dist/leaflet.css%22/%3E%0A%20%20%20%20%3Clink%20rel%3D%22stylesheet%22%20href%3D%22https%3A//maxcdn.bootstrapcdn.com/bootstrap/3.2.0/css/bootstrap.min.css%22/%3E%0A%20%20%20%20%3Clink%20rel%3D%22stylesheet%22%20href%3D%22https%3A//maxcdn.bootstrapcdn.com/bootstrap/3.2.0/css/bootstrap-theme.min.css%22/%3E%0A%20%20%20%20%3Clink%20rel%3D%22stylesheet%22%20href%3D%22https%3A//maxcdn.bootstrapcdn.com/font-awesome/4.6.3/css/font-awesome.min.css%22/%3E%0A%20%20%20%20%3Clink%20rel%3D%22stylesheet%22%20href%3D%22https%3A//cdnjs.cloudflare.com/ajax/libs/Leaflet.awesome-markers/2.0.2/leaflet.awesome-markers.css%22/%3E%0A%20%20%20%20%3Clink%20rel%3D%22stylesheet%22%20href%3D%22https%3A//rawgit.com/python-visualization/folium/master/folium/templates/leaflet.awesome.rotate.css%22/%3E%0A%20%20%20%20%3Cstyle%3Ehtml%2C%20body%20%7Bwidth%3A%20100%25%3Bheight%3A%20100%25%3Bmargin%3A%200%3Bpadding%3A%200%3B%7D%3C/style%3E%0A%20%20%20%20%3Cstyle%3E%23map%20%7Bposition%3Aabsolute%3Btop%3A0%3Bbottom%3A0%3Bright%3A0%3Bleft%3A0%3B%7D%3C/style%3E%0A%20%20%20%20%0A%20%20%20%20%20%20%20%20%20%20%20%20%3Cstyle%3E%20%23map_a00329bb86504e26b11b7237edd74b4c%20%7B%0A%20%20%20%20%20%20%20%20%20%20%20%20%20%20%20%20position%20%3A%20relative%3B%0A%20%20%20%20%20%20%20%20%20%20%20%20%20%20%20%20width%20%3A%20100.0%25%3B%0A%20%20%20%20%20%20%20%20%20%20%20%20%20%20%20%20height%3A%20100.0%25%3B%0A%20%20%20%20%20%20%20%20%20%20%20%20%20%20%20%20left%3A%200.0%25%3B%0A%20%20%20%20%20%20%20%20%20%20%20%20%20%20%20%20top%3A%200.0%25%3B%0A%20%20%20%20%20%20%20%20%20%20%20%20%20%20%20%20%7D%0A%20%20%20%20%20%20%20%20%20%20%20%20%3C/style%3E%0A%20%20%20%20%20%20%20%20%0A%3C/head%3E%0A%3Cbody%3E%20%20%20%20%0A%20%20%20%20%0A%20%20%20%20%20%20%20%20%20%20%20%20%3Cdiv%20class%3D%22folium-map%22%20id%3D%22map_a00329bb86504e26b11b7237edd74b4c%22%20%3E%3C/div%3E%0A%20%20%20%20%20%20%20%20%0A%3C/body%3E%0A%3Cscript%3E%20%20%20%20%0A%20%20%20%20%0A%0A%20%20%20%20%20%20%20%20%20%20%20%20%0A%20%20%20%20%20%20%20%20%20%20%20%20%20%20%20%20var%20bounds%20%3D%20null%3B%0A%20%20%20%20%20%20%20%20%20%20%20%20%0A%0A%20%20%20%20%20%20%20%20%20%20%20%20var%20map_a00329bb86504e26b11b7237edd74b4c%20%3D%20L.map%28%0A%20%20%20%20%20%20%20%20%20%20%20%20%20%20%20%20%20%20%20%20%20%20%20%20%20%20%20%20%20%20%20%20%20%20%27map_a00329bb86504e26b11b7237edd74b4c%27%2C%0A%20%20%20%20%20%20%20%20%20%20%20%20%20%20%20%20%20%20%20%20%20%20%20%20%20%20%20%20%20%20%20%20%20%20%7Bcenter%3A%20%5B-12.08654725%2C-77.0138854222954%5D%2C%0A%20%20%20%20%20%20%20%20%20%20%20%20%20%20%20%20%20%20%20%20%20%20%20%20%20%20%20%20%20%20%20%20%20%20zoom%3A%2015%2C%0A%20%20%20%20%20%20%20%20%20%20%20%20%20%20%20%20%20%20%20%20%20%20%20%20%20%20%20%20%20%20%20%20%20%20maxBounds%3A%20bounds%2C%0A%20%20%20%20%20%20%20%20%20%20%20%20%20%20%20%20%20%20%20%20%20%20%20%20%20%20%20%20%20%20%20%20%20%20layers%3A%20%5B%5D%2C%0A%20%20%20%20%20%20%20%20%20%20%20%20%20%20%20%20%20%20%20%20%20%20%20%20%20%20%20%20%20%20%20%20%20%20worldCopyJump%3A%20false%2C%0A%20%20%20%20%20%20%20%20%20%20%20%20%20%20%20%20%20%20%20%20%20%20%20%20%20%20%20%20%20%20%20%20%20%20crs%3A%20L.CRS.EPSG3857%0A%20%20%20%20%20%20%20%20%20%20%20%20%20%20%20%20%20%20%20%20%20%20%20%20%20%20%20%20%20%20%20%20%20%7D%29%3B%0A%20%20%20%20%20%20%20%20%20%20%20%20%0A%20%20%20%20%20%20%20%20%0A%20%20%20%20%0A%20%20%20%20%20%20%20%20%20%20%20%20var%20tile_layer_cab4a8ec908c40e496744146bec405fc%20%3D%20L.tileLayer%28%0A%20%20%20%20%20%20%20%20%20%20%20%20%20%20%20%20%27https%3A//%7Bs%7D.tile.openstreetmap.org/%7Bz%7D/%7Bx%7D/%7By%7D.png%27%2C%0A%20%20%20%20%20%20%20%20%20%20%20%20%20%20%20%20%7B%0A%20%20%22attribution%22%3A%20null%2C%0A%20%20%22detectRetina%22%3A%20false%2C%0A%20%20%22maxZoom%22%3A%2018%2C%0A%20%20%22minZoom%22%3A%201%2C%0A%20%20%22noWrap%22%3A%20false%2C%0A%20%20%22subdomains%22%3A%20%22abc%22%0A%7D%0A%20%20%20%20%20%20%20%20%20%20%20%20%20%20%20%20%29.addTo%28map_a00329bb86504e26b11b7237edd74b4c%29%3B%0A%20%20%20%20%20%20%20%20%0A%20%20%20%20%0A%20%20%20%20%20%20%20%20%20%20%20%20var%20circle_marker_7454c33d6ea441768b168c481133fe79%20%3D%20L.circleMarker%28%0A%20%20%20%20%20%20%20%20%20%20%20%20%20%20%20%20%5B-12.082901640404039%2C-77.01554447676769%5D%2C%0A%20%20%20%20%20%20%20%20%20%20%20%20%20%20%20%20%7B%0A%20%20%22bubblingMouseEvents%22%3A%20true%2C%0A%20%20%22color%22%3A%20%22blue%22%2C%0A%20%20%22dashArray%22%3A%20null%2C%0A%20%20%22dashOffset%22%3A%20null%2C%0A%20%20%22fill%22%3A%20true%2C%0A%20%20%22fillColor%22%3A%20%22%233186cc%22%2C%0A%20%20%22fillOpacity%22%3A%200.7%2C%0A%20%20%22fillRule%22%3A%20%22evenodd%22%2C%0A%20%20%22lineCap%22%3A%20%22round%22%2C%0A%20%20%22lineJoin%22%3A%20%22round%22%2C%0A%20%20%22opacity%22%3A%201.0%2C%0A%20%20%22radius%22%3A%205%2C%0A%20%20%22stroke%22%3A%20true%2C%0A%20%20%22weight%22%3A%203%0A%7D%0A%20%20%20%20%20%20%20%20%20%20%20%20%20%20%20%20%29.addTo%28map_a00329bb86504e26b11b7237edd74b4c%29%3B%0A%20%20%20%20%20%20%20%20%20%20%20%20%0A%20%20%20%20%0A%20%20%20%20%20%20%20%20%20%20%20%20var%20popup_d2a31380351e4b68927f526615835692%20%3D%20L.popup%28%7BmaxWidth%3A%20%27300%27%7D%29%3B%0A%0A%20%20%20%20%20%20%20%20%20%20%20%20%0A%20%20%20%20%20%20%20%20%20%20%20%20%20%20%20%20var%20html_640ac1a7a1564b4b938890844043daa2%20%3D%20%24%28%27%3Cdiv%20id%3D%22html_640ac1a7a1564b4b938890844043daa2%22%20style%3D%22width%3A%20100.0%25%3B%20height%3A%20100.0%25%3B%22%3Etarget%201%3C/div%3E%27%29%5B0%5D%3B%0A%20%20%20%20%20%20%20%20%20%20%20%20%20%20%20%20popup_d2a31380351e4b68927f526615835692.setContent%28html_640ac1a7a1564b4b938890844043daa2%29%3B%0A%20%20%20%20%20%20%20%20%20%20%20%20%0A%0A%20%20%20%20%20%20%20%20%20%20%20%20circle_marker_7454c33d6ea441768b168c481133fe79.bindPopup%28popup_d2a31380351e4b68927f526615835692%29%3B%0A%0A%20%20%20%20%20%20%20%20%20%20%20%20%0A%20%20%20%20%20%20%20%20%0A%20%20%20%20%0A%20%20%20%20%20%20%20%20%20%20%20%20var%20circle_marker_243d740946a74aeba1a0658f47c23615%20%3D%20L.circleMarker%28%0A%20%20%20%20%20%20%20%20%20%20%20%20%20%20%20%20%5B-12.09254915%2C-77.00865710045835%5D%2C%0A%20%20%20%20%20%20%20%20%20%20%20%20%20%20%20%20%7B%0A%20%20%22bubblingMouseEvents%22%3A%20true%2C%0A%20%20%22color%22%3A%20%22blue%22%2C%0A%20%20%22dashArray%22%3A%20null%2C%0A%20%20%22dashOffset%22%3A%20null%2C%0A%20%20%22fill%22%3A%20true%2C%0A%20%20%22fillColor%22%3A%20%22%233186cc%22%2C%0A%20%20%22fillOpacity%22%3A%200.7%2C%0A%20%20%22fillRule%22%3A%20%22evenodd%22%2C%0A%20%20%22lineCap%22%3A%20%22round%22%2C%0A%20%20%22lineJoin%22%3A%20%22round%22%2C%0A%20%20%22opacity%22%3A%201.0%2C%0A%20%20%22radius%22%3A%205%2C%0A%20%20%22stroke%22%3A%20true%2C%0A%20%20%22weight%22%3A%203%0A%7D%0A%20%20%20%20%20%20%20%20%20%20%20%20%20%20%20%20%29.addTo%28map_a00329bb86504e26b11b7237edd74b4c%29%3B%0A%20%20%20%20%20%20%20%20%20%20%20%20%0A%20%20%20%20%0A%20%20%20%20%20%20%20%20%20%20%20%20var%20popup_923e0111276d44fbbd3398d010f150cf%20%3D%20L.popup%28%7BmaxWidth%3A%20%27300%27%7D%29%3B%0A%0A%20%20%20%20%20%20%20%20%20%20%20%20%0A%20%20%20%20%20%20%20%20%20%20%20%20%20%20%20%20var%20html_62c241077e4c4021a30c424da22d4beb%20%3D%20%24%28%27%3Cdiv%20id%3D%22html_62c241077e4c4021a30c424da22d4beb%22%20style%3D%22width%3A%20100.0%25%3B%20height%3A%20100.0%25%3B%22%3Etarget%202%3C/div%3E%27%29%5B0%5D%3B%0A%20%20%20%20%20%20%20%20%20%20%20%20%20%20%20%20popup_923e0111276d44fbbd3398d010f150cf.setContent%28html_62c241077e4c4021a30c424da22d4beb%29%3B%0A%20%20%20%20%20%20%20%20%20%20%20%20%0A%0A%20%20%20%20%20%20%20%20%20%20%20%20circle_marker_243d740946a74aeba1a0658f47c23615.bindPopup%28popup_923e0111276d44fbbd3398d010f150cf%29%3B%0A%0A%20%20%20%20%20%20%20%20%20%20%20%20%0A%20%20%20%20%20%20%20%20%0A%20%20%20%20%0A%20%20%20%20%20%20%20%20%20%20%20%20var%20circle_marker_83c7b11db4ba47e4856b80435f2e5a09%20%3D%20L.circleMarker%28%0A%20%20%20%20%20%20%20%20%20%20%20%20%20%20%20%20%5B-12.0891724%2C-77.0232464%5D%2C%0A%20%20%20%20%20%20%20%20%20%20%20%20%20%20%20%20%7B%0A%20%20%22bubblingMouseEvents%22%3A%20true%2C%0A%20%20%22color%22%3A%20%22blue%22%2C%0A%20%20%22dashArray%22%3A%20null%2C%0A%20%20%22dashOffset%22%3A%20null%2C%0A%20%20%22fill%22%3A%20true%2C%0A%20%20%22fillColor%22%3A%20%22%233186cc%22%2C%0A%20%20%22fillOpacity%22%3A%200.7%2C%0A%20%20%22fillRule%22%3A%20%22evenodd%22%2C%0A%20%20%22lineCap%22%3A%20%22round%22%2C%0A%20%20%22lineJoin%22%3A%20%22round%22%2C%0A%20%20%22opacity%22%3A%201.0%2C%0A%20%20%22radius%22%3A%205%2C%0A%20%20%22stroke%22%3A%20true%2C%0A%20%20%22weight%22%3A%203%0A%7D%0A%20%20%20%20%20%20%20%20%20%20%20%20%20%20%20%20%29.addTo%28map_a00329bb86504e26b11b7237edd74b4c%29%3B%0A%20%20%20%20%20%20%20%20%20%20%20%20%0A%20%20%20%20%0A%20%20%20%20%20%20%20%20%20%20%20%20var%20popup_43392851d3174ae091e2021ec066b639%20%3D%20L.popup%28%7BmaxWidth%3A%20%27300%27%7D%29%3B%0A%0A%20%20%20%20%20%20%20%20%20%20%20%20%0A%20%20%20%20%20%20%20%20%20%20%20%20%20%20%20%20var%20html_6fe73859cb2149e28e476305742a335c%20%3D%20%24%28%27%3Cdiv%20id%3D%22html_6fe73859cb2149e28e476305742a335c%22%20style%3D%22width%3A%20100.0%25%3B%20height%3A%20100.0%25%3B%22%3Etarget%203%3C/div%3E%27%29%5B0%5D%3B%0A%20%20%20%20%20%20%20%20%20%20%20%20%20%20%20%20popup_43392851d3174ae091e2021ec066b639.setContent%28html_6fe73859cb2149e28e476305742a335c%29%3B%0A%20%20%20%20%20%20%20%20%20%20%20%20%0A%0A%20%20%20%20%20%20%20%20%20%20%20%20circle_marker_83c7b11db4ba47e4856b80435f2e5a09.bindPopup%28popup_43392851d3174ae091e2021ec066b639%29%3B%0A%0A%20%20%20%20%20%20%20%20%20%20%20%20%0A%20%20%20%20%20%20%20%20%0A%20%20%20%20%0A%0A%20%20%20%20%20%20%20%20%20%20%20%20var%20marker_d86dd3c5298f42fcbf254df9fd57d73d%20%3D%20L.marker%28%0A%20%20%20%20%20%20%20%20%20%20%20%20%20%20%20%20%5B-12.08654725%2C-77.0138854222954%5D%2C%0A%20%20%20%20%20%20%20%20%20%20%20%20%20%20%20%20%7B%0A%20%20%20%20%20%20%20%20%20%20%20%20%20%20%20%20%20%20%20%20icon%3A%20new%20L.Icon.Default%28%29%0A%20%20%20%20%20%20%20%20%20%20%20%20%20%20%20%20%20%20%20%20%7D%0A%20%20%20%20%20%20%20%20%20%20%20%20%20%20%20%20%29%0A%20%20%20%20%20%20%20%20%20%20%20%20%20%20%20%20.addTo%28map_a00329bb86504e26b11b7237edd74b4c%29%3B%0A%20%20%20%20%20%20%20%20%20%20%20%20%0A%20%20%20%20%0A%0A%20%20%20%20%20%20%20%20%20%20%20%20%20%20%20%20var%20icon_b4359a9d7699415f846e6f17f05814a6%20%3D%20L.AwesomeMarkers.icon%28%7B%0A%20%20%20%20%20%20%20%20%20%20%20%20%20%20%20%20%20%20%20%20icon%3A%20%27info-sign%27%2C%0A%20%20%20%20%20%20%20%20%20%20%20%20%20%20%20%20%20%20%20%20iconColor%3A%20%27white%27%2C%0A%20%20%20%20%20%20%20%20%20%20%20%20%20%20%20%20%20%20%20%20markerColor%3A%20%27black%27%2C%0A%20%20%20%20%20%20%20%20%20%20%20%20%20%20%20%20%20%20%20%20prefix%3A%20%27glyphicon%27%2C%0A%20%20%20%20%20%20%20%20%20%20%20%20%20%20%20%20%20%20%20%20extraClasses%3A%20%27fa-rotate-0%27%0A%20%20%20%20%20%20%20%20%20%20%20%20%20%20%20%20%20%20%20%20%7D%29%3B%0A%20%20%20%20%20%20%20%20%20%20%20%20%20%20%20%20marker_d86dd3c5298f42fcbf254df9fd57d73d.setIcon%28icon_b4359a9d7699415f846e6f17f05814a6%29%3B%0A%20%20%20%20%20%20%20%20%20%20%20%20%0A%3C/script%3E onload=\"this.contentDocument.open();this.contentDocument.write(    decodeURIComponent(this.getAttribute('data-html')));this.contentDocument.close();\" allowfullscreen webkitallowfullscreen mozallowfullscreen></iframe></div></div>"
                    },
                    "metadata": {}
                }
            ]
        },
        {
            "metadata": {},
            "cell_type": "markdown",
            "source": "### Using Fourquare to get nearvy bussiness and categories. \nWe decided to use a radius of 1500 meters, because in most cases they will use bicycles. And they are used to traveling 2km as a sports activity."
        },
        {
            "metadata": {},
            "cell_type": "code",
            "source": "#Create variables for access to Foursquare\nimport requests \nCLIENT_ID = 'LYQS0RPQHSSLCADD3411DNEF00KIT4D3GBER4GLP0Q1XDJQC' \nCLIENT_SECRET = 'KFIMJG100141HTEP1C2VHQESLIAPJXYD4AZ5RGDZO5GLEDX2' \nVERSION = '20180605' \nLIMIT = 100 \n\n#Create Function to get nearby business \ndef getNearbyVenues(names, latitudes, longitudes, radius=1500):\n    venues_list=[]\n    for name, lat, lng in zip(names, latitudes, longitudes):\n        print(name)\n            \n        # create the API request URL\n        url = 'https://api.foursquare.com/v2/venues/explore?&client_id={}&client_secret={}&v={}&ll={},{}&radius={}&limit={}'.format(\n            CLIENT_ID, CLIENT_SECRET, VERSION, lat, lng, radius, LIMIT)   \n        # make the GET request\n        results = requests.get(url).json()[\"response\"]['groups'][0]['items']\n        # return only relevant information for each nearby venue\n        venues_list.append([(name, lat, lng, \n            v['venue']['name'], v['venue']['location']['lat'],  v['venue']['location']['lng'],  \n            v['venue']['categories'][0]['name']) for v in results])\n\n    nearby_venues = pd.DataFrame([item for venue_list in venues_list for item in venue_list])\n    nearby_venues.columns = ['Neighborhood', \n                  'Neighborhood Latitude', \n                  'Neighborhood Longitude', \n                  'Venue', 'Venue Latitude',  'Venue Longitude', 'Venue Category']\n    \n    return(nearby_venues)",
            "execution_count": 7,
            "outputs": []
        },
        {
            "metadata": {},
            "cell_type": "code",
            "source": "targets_venues = getNearbyVenues(names=target_frame['Adrees'],\n                                   latitudes=target_frame['Latitud'],\n                                   longitudes=target_frame['Longitude'])\ntargets_venues.head()",
            "execution_count": 8,
            "outputs": [
                {
                    "output_type": "stream",
                    "text": "target 1\ntarget 2\ntarget 3\n",
                    "name": "stdout"
                },
                {
                    "output_type": "execute_result",
                    "execution_count": 8,
                    "data": {
                        "text/plain": "  Neighborhood  Neighborhood Latitude  Neighborhood Longitude  \\\n0     target 1             -12.082902              -77.015544   \n1     target 1             -12.082902              -77.015544   \n2     target 1             -12.082902              -77.015544   \n3     target 1             -12.082902              -77.015544   \n4     target 1             -12.082902              -77.015544   \n\n                     Venue  Venue Latitude  Venue Longitude  \\\n0  BARRA KHUDA - Resto Mar      -12.084119       -77.020552   \n1            La Rocca Caf\u00e9      -12.085527       -77.015342   \n2               Tomyko Spa      -12.088118       -77.020764   \n3               Chifa Titi      -12.089957       -77.015903   \n4             Catalina 555      -12.086243       -77.018810   \n\n        Venue Category  \n0           Restaurant  \n1                 Caf\u00e9  \n2                  Spa  \n3   Chinese Restaurant  \n4  Peruvian Restaurant  ",
                        "text/html": "<div>\n<style scoped>\n    .dataframe tbody tr th:only-of-type {\n        vertical-align: middle;\n    }\n\n    .dataframe tbody tr th {\n        vertical-align: top;\n    }\n\n    .dataframe thead th {\n        text-align: right;\n    }\n</style>\n<table border=\"1\" class=\"dataframe\">\n  <thead>\n    <tr style=\"text-align: right;\">\n      <th></th>\n      <th>Neighborhood</th>\n      <th>Neighborhood Latitude</th>\n      <th>Neighborhood Longitude</th>\n      <th>Venue</th>\n      <th>Venue Latitude</th>\n      <th>Venue Longitude</th>\n      <th>Venue Category</th>\n    </tr>\n  </thead>\n  <tbody>\n    <tr>\n      <th>0</th>\n      <td>target 1</td>\n      <td>-12.082902</td>\n      <td>-77.015544</td>\n      <td>BARRA KHUDA - Resto Mar</td>\n      <td>-12.084119</td>\n      <td>-77.020552</td>\n      <td>Restaurant</td>\n    </tr>\n    <tr>\n      <th>1</th>\n      <td>target 1</td>\n      <td>-12.082902</td>\n      <td>-77.015544</td>\n      <td>La Rocca Caf\u00e9</td>\n      <td>-12.085527</td>\n      <td>-77.015342</td>\n      <td>Caf\u00e9</td>\n    </tr>\n    <tr>\n      <th>2</th>\n      <td>target 1</td>\n      <td>-12.082902</td>\n      <td>-77.015544</td>\n      <td>Tomyko Spa</td>\n      <td>-12.088118</td>\n      <td>-77.020764</td>\n      <td>Spa</td>\n    </tr>\n    <tr>\n      <th>3</th>\n      <td>target 1</td>\n      <td>-12.082902</td>\n      <td>-77.015544</td>\n      <td>Chifa Titi</td>\n      <td>-12.089957</td>\n      <td>-77.015903</td>\n      <td>Chinese Restaurant</td>\n    </tr>\n    <tr>\n      <th>4</th>\n      <td>target 1</td>\n      <td>-12.082902</td>\n      <td>-77.015544</td>\n      <td>Catalina 555</td>\n      <td>-12.086243</td>\n      <td>-77.018810</td>\n      <td>Peruvian Restaurant</td>\n    </tr>\n  </tbody>\n</table>\n</div>"
                    },
                    "metadata": {}
                }
            ]
        },
        {
            "metadata": {},
            "cell_type": "markdown",
            "source": "### Describing the data"
        },
        {
            "metadata": {},
            "cell_type": "code",
            "source": "import seaborn as sns\nimport matplotlib.pyplot as plt\ndf_test = targets_venues[['Venue Category','Venue']]\ndf_grpC = df_test['Venue Category'].value_counts().to_frame()\ndf_grpC.rename (columns = {'Venue Category':'value_counts'}, inplace = True)\ndf_grpC['value_counts'].describe()",
            "execution_count": 15,
            "outputs": [
                {
                    "output_type": "execute_result",
                    "execution_count": 15,
                    "data": {
                        "text/plain": "count    70.000000\nmean      4.285714\nstd       5.798908\nmin       1.000000\n25%       1.000000\n50%       2.000000\n75%       4.000000\nmax      27.000000\nName: value_counts, dtype: float64"
                    },
                    "metadata": {}
                }
            ]
        },
        {
            "metadata": {},
            "cell_type": "code",
            "source": "# 75% of the sample has less than 4 businesses per category, so we will review the categories that have more than 5 businesses\ng2=df_grpC.loc[df_grpC['value_counts']> 5]\ng2.plot(kind = 'bar')\nplt.title ('Top of categories in data')",
            "execution_count": 17,
            "outputs": [
                {
                    "output_type": "execute_result",
                    "execution_count": 17,
                    "data": {
                        "text/plain": "Text(0.5, 1.0, 'Top of categories in data')"
                    },
                    "metadata": {}
                },
                {
                    "output_type": "display_data",
                    "data": {
                        "text/plain": "<Figure size 432x288 with 1 Axes>",
                        "image/png": "[encoded data removed]"
                    },
                    "metadata": {
                        "needs_background": "light"
                    }
                }
            ]
        },
        {
            "metadata": {},
            "cell_type": "markdown",
            "source": "### Top categories services for each target"
        },
        {
            "metadata": {},
            "cell_type": "code",
            "source": "# Top Categories to each 'Neighborhood'\nTarget_onehot = pd.get_dummies(targets_venues[['Venue Category']], prefix=\"\", prefix_sep=\"\")\nTarget_onehot['Neighborhood'] = targets_venues['Neighborhood'] \nfixed_columns = [Target_onehot.columns[-1]] + list(Target_onehot.columns[:-1])\nTarget_onehot = Target_onehot[fixed_columns]\nTarget_grouped = Target_onehot.groupby('Neighborhood').mean().reset_index()\nTarget_grouped.shape",
            "execution_count": 21,
            "outputs": [
                {
                    "output_type": "execute_result",
                    "execution_count": 21,
                    "data": {
                        "text/plain": "(3, 71)"
                    },
                    "metadata": {}
                }
            ]
        },
        {
            "metadata": {},
            "cell_type": "code",
            "source": "def return_most_common_venues(row, num_top_venues):\n    row_categories = row.iloc[1:]\n    row_categories_sorted = row_categories.sort_values(ascending=False)\n    \n    return row_categories_sorted.index.values[0:num_top_venues]",
            "execution_count": 23,
            "outputs": []
        },
        {
            "metadata": {},
            "cell_type": "code",
            "source": "import numpy as np\nnum_top_venues = 8\nindicators = ['st', 'nd', 'rd']\n# create columns according to number of top venues\ncolumns = ['Neighborhood']\nfor ind in np.arange(num_top_venues):\n    try:\n        columns.append('{}{} Most Common Venue'.format(ind+1, indicators[ind]))\n    except:\n        columns.append('{}th Most Common Venue'.format(ind+1))\n# create a new dataframe\nneighborhoods_venues_sorted = pd.DataFrame(columns=columns)\nneighborhoods_venues_sorted['Neighborhood'] = Target_grouped['Neighborhood']\n\nfor ind in np.arange(Target_grouped.shape[0]):\n    neighborhoods_venues_sorted.iloc[ind, 1:] = return_most_common_venues(Target_grouped.iloc[ind, :], num_top_venues)\nneighborhoods_venues_sorted.head()",
            "execution_count": 26,
            "outputs": [
                {
                    "output_type": "execute_result",
                    "execution_count": 26,
                    "data": {
                        "text/plain": "  Neighborhood 1st Most Common Venue 2nd Most Common Venue  \\\n0     target 1            Restaurant    Seafood Restaurant   \n1     target 2                  Park            Restaurant   \n2     target 3   Peruvian Restaurant    Seafood Restaurant   \n\n  3rd Most Common Venue 4th Most Common Venue 5th Most Common Venue  \\\n0                  Park   Peruvian Restaurant                   Spa   \n1    Seafood Restaurant    Chinese Restaurant           Coffee Shop   \n2            Restaurant                  Caf\u00e9   Japanese Restaurant   \n\n  6th Most Common Venue 7th Most Common Venue 8th Most Common Venue  \n0   Japanese Restaurant        Ice Cream Shop        Sandwich Place  \n1   Peruvian Restaurant                   Spa        Ice Cream Shop  \n2    Italian Restaurant                   Spa                 Hotel  ",
                        "text/html": "<div>\n<style scoped>\n    .dataframe tbody tr th:only-of-type {\n        vertical-align: middle;\n    }\n\n    .dataframe tbody tr th {\n        vertical-align: top;\n    }\n\n    .dataframe thead th {\n        text-align: right;\n    }\n</style>\n<table border=\"1\" class=\"dataframe\">\n  <thead>\n    <tr style=\"text-align: right;\">\n      <th></th>\n      <th>Neighborhood</th>\n      <th>1st Most Common Venue</th>\n      <th>2nd Most Common Venue</th>\n      <th>3rd Most Common Venue</th>\n      <th>4th Most Common Venue</th>\n      <th>5th Most Common Venue</th>\n      <th>6th Most Common Venue</th>\n      <th>7th Most Common Venue</th>\n      <th>8th Most Common Venue</th>\n    </tr>\n  </thead>\n  <tbody>\n    <tr>\n      <th>0</th>\n      <td>target 1</td>\n      <td>Restaurant</td>\n      <td>Seafood Restaurant</td>\n      <td>Park</td>\n      <td>Peruvian Restaurant</td>\n      <td>Spa</td>\n      <td>Japanese Restaurant</td>\n      <td>Ice Cream Shop</td>\n      <td>Sandwich Place</td>\n    </tr>\n    <tr>\n      <th>1</th>\n      <td>target 2</td>\n      <td>Park</td>\n      <td>Restaurant</td>\n      <td>Seafood Restaurant</td>\n      <td>Chinese Restaurant</td>\n      <td>Coffee Shop</td>\n      <td>Peruvian Restaurant</td>\n      <td>Spa</td>\n      <td>Ice Cream Shop</td>\n    </tr>\n    <tr>\n      <th>2</th>\n      <td>target 3</td>\n      <td>Peruvian Restaurant</td>\n      <td>Seafood Restaurant</td>\n      <td>Restaurant</td>\n      <td>Caf\u00e9</td>\n      <td>Japanese Restaurant</td>\n      <td>Italian Restaurant</td>\n      <td>Spa</td>\n      <td>Hotel</td>\n    </tr>\n  </tbody>\n</table>\n</div>"
                    },
                    "metadata": {}
                }
            ]
        },
        {
            "metadata": {},
            "cell_type": "markdown",
            "source": "### Grouping similar targets"
        },
        {
            "metadata": {},
            "cell_type": "code",
            "source": "#Agrupar con kMeans\nfrom sklearn.cluster import KMeans \nkclusters = 2\nTarget_grouped_clustering = Target_grouped.drop('Neighborhood', 1)\nkmeans = KMeans(n_clusters=kclusters, random_state=0).fit(Target_grouped_clustering)\nneighborhoods_venues_sorted.insert(0, 'Cluster Labels', kmeans.labels_)\nToronto_merged = target_frame\nToronto_merged = Toronto_merged.join(neighborhoods_venues_sorted.set_index('Neighborhood'), on='Adrees')\nToronto_merged",
            "execution_count": 27,
            "outputs": [
                {
                    "output_type": "execute_result",
                    "execution_count": 27,
                    "data": {
                        "text/plain": "     Adrees    Latitud  Longitude  Cluster Labels 1st Most Common Venue  \\\n0  target 1 -12.082902 -77.015544               0            Restaurant   \n1  target 2 -12.092549 -77.008657               0                  Park   \n2  target 3 -12.089172 -77.023246               1   Peruvian Restaurant   \n\n  2nd Most Common Venue 3rd Most Common Venue 4th Most Common Venue  \\\n0    Seafood Restaurant                  Park   Peruvian Restaurant   \n1            Restaurant    Seafood Restaurant    Chinese Restaurant   \n2    Seafood Restaurant            Restaurant                  Caf\u00e9   \n\n  5th Most Common Venue 6th Most Common Venue 7th Most Common Venue  \\\n0                   Spa   Japanese Restaurant        Ice Cream Shop   \n1           Coffee Shop   Peruvian Restaurant                   Spa   \n2   Japanese Restaurant    Italian Restaurant                   Spa   \n\n  8th Most Common Venue  \n0        Sandwich Place  \n1        Ice Cream Shop  \n2                 Hotel  ",
                        "text/html": "<div>\n<style scoped>\n    .dataframe tbody tr th:only-of-type {\n        vertical-align: middle;\n    }\n\n    .dataframe tbody tr th {\n        vertical-align: top;\n    }\n\n    .dataframe thead th {\n        text-align: right;\n    }\n</style>\n<table border=\"1\" class=\"dataframe\">\n  <thead>\n    <tr style=\"text-align: right;\">\n      <th></th>\n      <th>Adrees</th>\n      <th>Latitud</th>\n      <th>Longitude</th>\n      <th>Cluster Labels</th>\n      <th>1st Most Common Venue</th>\n      <th>2nd Most Common Venue</th>\n      <th>3rd Most Common Venue</th>\n      <th>4th Most Common Venue</th>\n      <th>5th Most Common Venue</th>\n      <th>6th Most Common Venue</th>\n      <th>7th Most Common Venue</th>\n      <th>8th Most Common Venue</th>\n    </tr>\n  </thead>\n  <tbody>\n    <tr>\n      <th>0</th>\n      <td>target 1</td>\n      <td>-12.082902</td>\n      <td>-77.015544</td>\n      <td>0</td>\n      <td>Restaurant</td>\n      <td>Seafood Restaurant</td>\n      <td>Park</td>\n      <td>Peruvian Restaurant</td>\n      <td>Spa</td>\n      <td>Japanese Restaurant</td>\n      <td>Ice Cream Shop</td>\n      <td>Sandwich Place</td>\n    </tr>\n    <tr>\n      <th>1</th>\n      <td>target 2</td>\n      <td>-12.092549</td>\n      <td>-77.008657</td>\n      <td>0</td>\n      <td>Park</td>\n      <td>Restaurant</td>\n      <td>Seafood Restaurant</td>\n      <td>Chinese Restaurant</td>\n      <td>Coffee Shop</td>\n      <td>Peruvian Restaurant</td>\n      <td>Spa</td>\n      <td>Ice Cream Shop</td>\n    </tr>\n    <tr>\n      <th>2</th>\n      <td>target 3</td>\n      <td>-12.089172</td>\n      <td>-77.023246</td>\n      <td>1</td>\n      <td>Peruvian Restaurant</td>\n      <td>Seafood Restaurant</td>\n      <td>Restaurant</td>\n      <td>Caf\u00e9</td>\n      <td>Japanese Restaurant</td>\n      <td>Italian Restaurant</td>\n      <td>Spa</td>\n      <td>Hotel</td>\n    </tr>\n  </tbody>\n</table>\n</div>"
                    },
                    "metadata": {}
                }
            ]
        },
        {
            "metadata": {},
            "cell_type": "markdown",
            "source": "## Section 4: Results"
        },
        {
            "metadata": {},
            "cell_type": "markdown",
            "source": "- Grouping with kmeans, we verify that target 1 y 2 are very similar areas by the presence of parks and restaurants. But looking deeply at target 1 (it is the area closest to its location), it turns out to have less direct competition. Making the area more attractive."
        },
        {
            "metadata": {},
            "cell_type": "code",
            "source": "Toronto_merged [Toronto_merged ['Adrees']=='target 1']",
            "execution_count": 33,
            "outputs": [
                {
                    "output_type": "execute_result",
                    "execution_count": 33,
                    "data": {
                        "text/plain": "     Adrees    Latitud  Longitude  Cluster Labels 1st Most Common Venue  \\\n0  target 1 -12.082902 -77.015544               0            Restaurant   \n\n  2nd Most Common Venue 3rd Most Common Venue 4th Most Common Venue  \\\n0    Seafood Restaurant                  Park   Peruvian Restaurant   \n\n  5th Most Common Venue 6th Most Common Venue 7th Most Common Venue  \\\n0                   Spa   Japanese Restaurant        Ice Cream Shop   \n\n  8th Most Common Venue  \n0        Sandwich Place  ",
                        "text/html": "<div>\n<style scoped>\n    .dataframe tbody tr th:only-of-type {\n        vertical-align: middle;\n    }\n\n    .dataframe tbody tr th {\n        vertical-align: top;\n    }\n\n    .dataframe thead th {\n        text-align: right;\n    }\n</style>\n<table border=\"1\" class=\"dataframe\">\n  <thead>\n    <tr style=\"text-align: right;\">\n      <th></th>\n      <th>Adrees</th>\n      <th>Latitud</th>\n      <th>Longitude</th>\n      <th>Cluster Labels</th>\n      <th>1st Most Common Venue</th>\n      <th>2nd Most Common Venue</th>\n      <th>3rd Most Common Venue</th>\n      <th>4th Most Common Venue</th>\n      <th>5th Most Common Venue</th>\n      <th>6th Most Common Venue</th>\n      <th>7th Most Common Venue</th>\n      <th>8th Most Common Venue</th>\n    </tr>\n  </thead>\n  <tbody>\n    <tr>\n      <th>0</th>\n      <td>target 1</td>\n      <td>-12.082902</td>\n      <td>-77.015544</td>\n      <td>0</td>\n      <td>Restaurant</td>\n      <td>Seafood Restaurant</td>\n      <td>Park</td>\n      <td>Peruvian Restaurant</td>\n      <td>Spa</td>\n      <td>Japanese Restaurant</td>\n      <td>Ice Cream Shop</td>\n      <td>Sandwich Place</td>\n    </tr>\n  </tbody>\n</table>\n</div>"
                    },
                    "metadata": {}
                }
            ]
        },
        {
            "metadata": {},
            "cell_type": "markdown",
            "source": "-\tLooking closely at target 2 and 3, apart from being more remote \u00e1reas. We found a greater presence of \u2018Caf\u00e9 / Coffee Shop\u2019. Who should be our direct competition. In each target they represent 9% of businesses"
        },
        {
            "metadata": {},
            "cell_type": "code",
            "source": "Target_grouped[['Neighborhood','Restaurant','Park','Caf\u00e9','Coffee Shop']]",
            "execution_count": 35,
            "outputs": [
                {
                    "output_type": "execute_result",
                    "execution_count": 35,
                    "data": {
                        "text/plain": "  Neighborhood  Restaurant  Park  Caf\u00e9  Coffee Shop\n0     target 1        0.10  0.07  0.02         0.02\n1     target 2        0.08  0.10  0.03         0.06\n2     target 3        0.09  0.03  0.06         0.03",
                        "text/html": "<div>\n<style scoped>\n    .dataframe tbody tr th:only-of-type {\n        vertical-align: middle;\n    }\n\n    .dataframe tbody tr th {\n        vertical-align: top;\n    }\n\n    .dataframe thead th {\n        text-align: right;\n    }\n</style>\n<table border=\"1\" class=\"dataframe\">\n  <thead>\n    <tr style=\"text-align: right;\">\n      <th></th>\n      <th>Neighborhood</th>\n      <th>Restaurant</th>\n      <th>Park</th>\n      <th>Caf\u00e9</th>\n      <th>Coffee Shop</th>\n    </tr>\n  </thead>\n  <tbody>\n    <tr>\n      <th>0</th>\n      <td>target 1</td>\n      <td>0.10</td>\n      <td>0.07</td>\n      <td>0.02</td>\n      <td>0.02</td>\n    </tr>\n    <tr>\n      <th>1</th>\n      <td>target 2</td>\n      <td>0.08</td>\n      <td>0.10</td>\n      <td>0.03</td>\n      <td>0.06</td>\n    </tr>\n    <tr>\n      <th>2</th>\n      <td>target 3</td>\n      <td>0.09</td>\n      <td>0.03</td>\n      <td>0.06</td>\n      <td>0.03</td>\n    </tr>\n  </tbody>\n</table>\n</div>"
                    },
                    "metadata": {}
                }
            ]
        },
        {
            "metadata": {},
            "cell_type": "markdown",
            "source": "## Section 5: Discussion"
        },
        {
            "metadata": {},
            "cell_type": "markdown",
            "source": "As I mentioned before target 1 y 2 are very similar areas by the presence of parks and restaurants. But if we want to apply the initial objectives, target 1 would be optimal.\n\nSince we would invest less time in deliveries and there would not be much risk to reduce prices.\n\nI don\u2019t specify that the targets 2 and 3, we must not reach. But there is competition, we would have to investigate some of these stores in the area and see if the offer is very similar to what they would sell.\nOtherwise, this area could be included as a point of sale."
        },
        {
            "metadata": {},
            "cell_type": "markdown",
            "source": "## Section 6: Conclusion"
        },
        {
            "metadata": {},
            "cell_type": "markdown",
            "source": "This model can help as a first idea, for new businessman who want to cover new areas or have an initial view of the areas where they will offer their products.\n\nNowadays, due to the commercial restrictions caused by covid-19, new businessman don\u2019t start with physical stores. This model would help a lot.\n\nIf the incursion in the projected areas works, this study could also help - in the future - when trying to prospect the opening of physical stores according to the area where they have the greatest demand."
        },
        {
            "metadata": {},
            "cell_type": "code",
            "source": "",
            "execution_count": null,
            "outputs": []
        },
        {
            "metadata": {},
            "cell_type": "markdown",
            "source": "Created by: Dina Joselyn Llocya Landa"
        }
    ],
    "metadata": {
        "kernelspec": {
            "name": "python3",
            "display_name": "Python 3.7",
            "language": "python"
        },
        "language_info": {
            "name": "python",
            "version": "3.7.10",
            "mimetype": "text/x-python",
            "codemirror_mode": {
                "name": "ipython",
                "version": 3
            },
            "pygments_lexer": "ipython3",
            "nbconvert_exporter": "python",
            "file_extension": ".py"
        }
    },
    "nbformat": 4,
    "nbformat_minor": 1
}