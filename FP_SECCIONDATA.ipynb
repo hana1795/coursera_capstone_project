{
    "cells": [
        {
            "metadata": {
                "collapsed": true
            },
            "cell_type": "markdown",
            "source": "# Section 2: Data"
        },
        {
            "metadata": {},
            "cell_type": "markdown",
            "source": "Based on the objectives and priorities of the case, the data section is defined:"
        },
        {
            "metadata": {},
            "cell_type": "markdown",
            "source": "## Analytic aprroach"
        },
        {
            "metadata": {},
            "cell_type": "markdown",
            "source": "For this development we will be based on a descriptive model. Using clustering or segmentation techniques."
        },
        {
            "metadata": {},
            "cell_type": "markdown",
            "source": "## Data requirement"
        },
        {
            "metadata": {},
            "cell_type": "markdown",
            "source": "- get Data of actual location coordinates: I could be geocoders or google maps. For Example:"
        },
        {
            "metadata": {},
            "cell_type": "code",
            "source": "! pip install folium==0.5.0\nimport folium # plotting library\n!pip install geopy\nfrom geopy.geocoders import Nominatim\naddress = 'San Isidro,Lima, Per\u00fa'\ngeolocator = Nominatim(user_agent=\"foursquare_agent\")\nlocation = geolocator.geocode(address)\nlatitude = location.latitude\nlongitude = location.longitude\nprint(latitude, longitude)",
            "execution_count": 2,
            "outputs": [
                {
                    "output_type": "stream",
                    "text": "Collecting folium==0.5.0\n  Downloading folium-0.5.0.tar.gz (79 kB)\n\u001b[K     |\u2588\u2588\u2588\u2588\u2588\u2588\u2588\u2588\u2588\u2588\u2588\u2588\u2588\u2588\u2588\u2588\u2588\u2588\u2588\u2588\u2588\u2588\u2588\u2588\u2588\u2588\u2588\u2588\u2588\u2588\u2588\u2588| 79 kB 10.0 MB/s eta 0:00:01\n\u001b[?25hCollecting branca\n  Downloading branca-0.4.2-py3-none-any.whl (24 kB)\nRequirement already satisfied: jinja2 in /opt/conda/envs/Python-3.7-main/lib/python3.7/site-packages (from folium==0.5.0) (2.11.2)\nRequirement already satisfied: requests in /opt/conda/envs/Python-3.7-main/lib/python3.7/site-packages (from folium==0.5.0) (2.24.0)\nRequirement already satisfied: six in /opt/conda/envs/Python-3.7-main/lib/python3.7/site-packages (from folium==0.5.0) (1.15.0)\nRequirement already satisfied: MarkupSafe>=0.23 in /opt/conda/envs/Python-3.7-main/lib/python3.7/site-packages (from jinja2->folium==0.5.0) (1.1.1)\nRequirement already satisfied: urllib3!=1.25.0,!=1.25.1,<1.26,>=1.21.1 in /opt/conda/envs/Python-3.7-main/lib/python3.7/site-packages (from requests->folium==0.5.0) (1.25.9)\nRequirement already satisfied: chardet<4,>=3.0.2 in /opt/conda/envs/Python-3.7-main/lib/python3.7/site-packages (from requests->folium==0.5.0) (3.0.4)\nRequirement already satisfied: certifi>=2017.4.17 in /opt/conda/envs/Python-3.7-main/lib/python3.7/site-packages (from requests->folium==0.5.0) (2020.12.5)\nRequirement already satisfied: idna<3,>=2.5 in /opt/conda/envs/Python-3.7-main/lib/python3.7/site-packages (from requests->folium==0.5.0) (2.9)\nBuilding wheels for collected packages: folium\n  Building wheel for folium (setup.py) ... \u001b[?25ldone\n\u001b[?25h  Created wheel for folium: filename=folium-0.5.0-py3-none-any.whl size=76240 sha256=161cc0c3cfef8b74d2b287e1de437340c0c6665f31f2ad56caeb204ed9e59df2\n  Stored in directory: /tmp/wsuser/.cache/pip/wheels/b2/2f/2c/109e446b990d663ea5ce9b078b5e7c1a9c45cca91f377080f8\nSuccessfully built folium\nInstalling collected packages: branca, folium\nSuccessfully installed branca-0.4.2 folium-0.5.0\nRequirement already satisfied: geopy in /opt/conda/envs/Python-3.7-main/lib/python3.7/site-packages (2.0.0)\nRequirement already satisfied: geographiclib<2,>=1.49 in /opt/conda/envs/Python-3.7-main/lib/python3.7/site-packages (from geopy) (1.50)\n-12.0934341 -77.0258146\n",
                    "name": "stdout"
                }
            ]
        },
        {
            "metadata": {},
            "cell_type": "markdown",
            "source": "- get Data of location of nearby businesses: I use the api Foursquare API Calls Premium"
        },
        {
            "metadata": {},
            "cell_type": "markdown",
            "source": "## Sources"
        },
        {
            "metadata": {},
            "cell_type": "markdown",
            "source": "- Clustering: Kmeans\n- Graficos: Matplotlib"
        },
        {
            "metadata": {},
            "cell_type": "code",
            "source": "",
            "execution_count": null,
            "outputs": []
        }
    ],
    "metadata": {
        "kernelspec": {
            "name": "python3",
            "display_name": "Python 3.7",
            "language": "python"
        },
        "language_info": {
            "name": "python",
            "version": "3.7.9",
            "mimetype": "text/x-python",
            "codemirror_mode": {
                "name": "ipython",
                "version": 3
            },
            "pygments_lexer": "ipython3",
            "nbconvert_exporter": "python",
            "file_extension": ".py"
        }
    },
    "nbformat": 4,
    "nbformat_minor": 1
}